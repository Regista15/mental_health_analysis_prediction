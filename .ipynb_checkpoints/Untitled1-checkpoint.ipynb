{
 "cells": [
  {
   "cell_type": "code",
   "execution_count": null,
   "id": "9d7a589b",
   "metadata": {},
   "outputs": [],
   "source": [
    "#IMPORT LIBRARIES\n",
    "import numpy as np\n",
    "import pandas as pd\n",
    "import matplotlib.pyplot as plt\n",
    "import seaborn as sns"
   ]
  },
  {
   "cell_type": "code",
   "execution_count": null,
   "id": "c3902ffb",
   "metadata": {},
   "outputs": [],
   "source": [
    "# Load the dataset\n",
    "mental_data = pd.read_csv('Mental Health Dataset.csv')\n",
    "\n",
    "df = mental_data.copy()  # make a copy of the dataset\n",
    "df.head()"
   ]
  },
  {
   "cell_type": "code",
   "execution_count": null,
   "id": "e4967a92",
   "metadata": {},
   "outputs": [],
   "source": [
    "df.info()"
   ]
  },
  {
   "cell_type": "markdown",
   "id": "16129369",
   "metadata": {},
   "source": [
    "# DATA CLEANING"
   ]
  },
  {
   "cell_type": "code",
   "execution_count": null,
   "id": "d9af549c",
   "metadata": {},
   "outputs": [],
   "source": [
    "## missing values\n",
    "df[df.isnull().any(axis=1)]"
   ]
  },
  {
   "cell_type": "code",
   "execution_count": null,
   "id": "ea535fb2",
   "metadata": {},
   "outputs": [],
   "source": [
    "# Drop rows with missing values in 'self_employed' column\n",
    "df = df.dropna(subset=['self_employed'])\n",
    "\n",
    "print(df.isnull().sum())"
   ]
  },
  {
   "cell_type": "code",
   "execution_count": null,
   "id": "70bea8af",
   "metadata": {},
   "outputs": [],
   "source": [
    "df.info()"
   ]
  },
  {
   "cell_type": "code",
   "execution_count": null,
   "id": "0dd5434f",
   "metadata": {},
   "outputs": [],
   "source": [
    "# Check for Percentage of Duplicated rows\n",
    "duplicates = df.duplicated().mean()\n",
    "print(f\" Percentage of duplicates: {duplicates: .1%}\")\n",
    "print()  # blank line\n",
    "\n",
    "# Drop duplicated rows\n",
    "df = df.drop_duplicates()\n",
    "duplicated = df.duplicated().mean()\n",
    "print(f\" Percentage of duplicated: {duplicated: .1%}\")"
   ]
  },
  {
   "cell_type": "code",
   "execution_count": null,
   "id": "95fc1bdb",
   "metadata": {},
   "outputs": [],
   "source": [
    "#droping timestamp\n"
   ]
  },
  {
   "cell_type": "code",
   "execution_count": null,
   "id": "8bcd5958",
   "metadata": {},
   "outputs": [],
   "source": [
    "df.drop(columns=['Timestamp'],inplace=True)"
   ]
  },
  {
   "cell_type": "code",
   "execution_count": null,
   "id": "8c41489b",
   "metadata": {},
   "outputs": [],
   "source": [
    "df"
   ]
  },
  {
   "cell_type": "code",
   "execution_count": null,
   "id": "da967905",
   "metadata": {},
   "outputs": [],
   "source": [
    "df.columns"
   ]
  },
  {
   "cell_type": "code",
   "execution_count": null,
   "id": "eb5a7d67",
   "metadata": {},
   "outputs": [],
   "source": [
    "df.describe()"
   ]
  },
  {
   "cell_type": "code",
   "execution_count": null,
   "id": "3867ccb4",
   "metadata": {},
   "outputs": [],
   "source": [
    "# Check for Percentage of Duplicated rows\n",
    "duplicates = df.duplicated().mean()\n",
    "print(f\" Percentage of duplicates: {duplicates: .1%}\")\n",
    "print()  # blank line\n",
    "\n"
   ]
  },
  {
   "cell_type": "code",
   "execution_count": null,
   "id": "c48ee7db",
   "metadata": {},
   "outputs": [],
   "source": [
    "df"
   ]
  },
  {
   "cell_type": "code",
   "execution_count": null,
   "id": "d2fb293a",
   "metadata": {},
   "outputs": [],
   "source": [
    "df.drop(columns=['mental_health_interview'],inplace=True)"
   ]
  },
  {
   "cell_type": "code",
   "execution_count": null,
   "id": "4dff0bd3",
   "metadata": {},
   "outputs": [],
   "source": [
    "def countsplot(category):\n",
    "  \"\"\"\n",
    "  Creates a count plot and returns a DataFrame with counts and percentages.\n",
    "\n",
    "  Args:\n",
    "      category (str): The column name for the categorical variable to plot.\n",
    "\n",
    "  Returns:\n",
    "      pandas.DataFrame: A DataFrame containing counts and percentages for each category.\n",
    "  \"\"\"\n",
    "\n",
    "  # Create count plot with dynamic title\n",
    "  sns.countplot(data = df, x = category)\n",
    "  plt.ylabel(\"Count\")\n",
    "  plt.title(f\"{category} Distribution\")\n",
    "  plt.show()\n",
    "  # Calculate counts and percentages\n",
    "  category_counts = df[category].value_counts()\n",
    "  category_percentages = df[category].value_counts(normalize = True)\n",
    "\n",
    "  # Combine counts and percentages into a DataFrame\n",
    "  stats_df = pd.DataFrame({\"Count\": category_counts, \"Proportion\": category_percentages})\n",
    "  stats_df[\"Count\"] = stats_df[\"Count\"].apply(\"{:,}\".format)\n",
    "  stats_df[\"Proportion\"] = stats_df[\"Proportion\"].apply(\"{:.1%}\".format)\n",
    "\n",
    "  return stats_df\n"
   ]
  },
  {
   "cell_type": "code",
   "execution_count": null,
   "id": "1f6ddbb9",
   "metadata": {},
   "outputs": [],
   "source": [
    "countsplot(\"Gender\")"
   ]
  },
  {
   "cell_type": "code",
   "execution_count": null,
   "id": "bc0d89e6",
   "metadata": {},
   "outputs": [],
   "source": [
    "countsplot(\"Coping_Struggles\")"
   ]
  },
  {
   "cell_type": "code",
   "execution_count": null,
   "id": "26ea9c89",
   "metadata": {},
   "outputs": [],
   "source": [
    "#call function \n"
   ]
  },
  {
   "cell_type": "code",
   "execution_count": null,
   "id": "a739bd87",
   "metadata": {},
   "outputs": [],
   "source": [
    "# Group data by Gender then filter by Occupation and count occurrences\n",
    "gender_data = (\n",
    "    df\n",
    "    .groupby(\"Gender\")[\"Occupation\"]\n",
    "    .value_counts()\n",
    "    .reset_index(name = \"Count\")\n",
    "    .sort_values(by = \"Count\", ascending = False)\n",
    ")\n",
    "\n",
    "sns.barplot(data = gender_data, x = \"Occupation\", y = \"Count\", hue = \"Gender\")\n",
    "plt.title(\"Occupation by Gender\")\n",
    "plt.show()\n",
    "gender_data"
   ]
  },
  {
   "cell_type": "markdown",
   "id": "b239038e",
   "metadata": {},
   "source": [
    "# DATA PREPROCESSING"
   ]
  },
  {
   "cell_type": "code",
   "execution_count": 22,
   "id": "f9698503",
   "metadata": {},
   "outputs": [],
   "source": [
    "from sklearn.preprocessing import LabelEncoder, MinMaxScaler"
   ]
  },
  {
   "cell_type": "code",
   "execution_count": 23,
   "id": "1dcae3f4",
   "metadata": {},
   "outputs": [
    {
     "data": {
      "text/html": [
       "<div>\n",
       "<style scoped>\n",
       "    .dataframe tbody tr th:only-of-type {\n",
       "        vertical-align: middle;\n",
       "    }\n",
       "\n",
       "    .dataframe tbody tr th {\n",
       "        vertical-align: top;\n",
       "    }\n",
       "\n",
       "    .dataframe thead th {\n",
       "        text-align: right;\n",
       "    }\n",
       "</style>\n",
       "<table border=\"1\" class=\"dataframe\">\n",
       "  <thead>\n",
       "    <tr style=\"text-align: right;\">\n",
       "      <th></th>\n",
       "      <th>Gender</th>\n",
       "      <th>Country</th>\n",
       "      <th>Occupation</th>\n",
       "      <th>self_employed</th>\n",
       "      <th>family_history</th>\n",
       "      <th>treatment</th>\n",
       "      <th>Days_Indoors</th>\n",
       "      <th>Growing_Stress</th>\n",
       "      <th>Changes_Habits</th>\n",
       "      <th>Mental_Health_History</th>\n",
       "      <th>Mood_Swings</th>\n",
       "      <th>Coping_Struggles</th>\n",
       "      <th>Work_Interest</th>\n",
       "      <th>Social_Weakness</th>\n",
       "      <th>care_options</th>\n",
       "    </tr>\n",
       "  </thead>\n",
       "  <tbody>\n",
       "    <tr>\n",
       "      <th>3</th>\n",
       "      <td>0</td>\n",
       "      <td>34</td>\n",
       "      <td>1</td>\n",
       "      <td>0</td>\n",
       "      <td>1</td>\n",
       "      <td>1</td>\n",
       "      <td>0</td>\n",
       "      <td>2</td>\n",
       "      <td>1</td>\n",
       "      <td>2</td>\n",
       "      <td>2</td>\n",
       "      <td>0</td>\n",
       "      <td>1</td>\n",
       "      <td>2</td>\n",
       "      <td>2</td>\n",
       "    </tr>\n",
       "    <tr>\n",
       "      <th>4</th>\n",
       "      <td>0</td>\n",
       "      <td>34</td>\n",
       "      <td>1</td>\n",
       "      <td>0</td>\n",
       "      <td>1</td>\n",
       "      <td>1</td>\n",
       "      <td>0</td>\n",
       "      <td>2</td>\n",
       "      <td>1</td>\n",
       "      <td>2</td>\n",
       "      <td>2</td>\n",
       "      <td>0</td>\n",
       "      <td>1</td>\n",
       "      <td>2</td>\n",
       "      <td>2</td>\n",
       "    </tr>\n",
       "    <tr>\n",
       "      <th>5</th>\n",
       "      <td>0</td>\n",
       "      <td>25</td>\n",
       "      <td>1</td>\n",
       "      <td>0</td>\n",
       "      <td>0</td>\n",
       "      <td>1</td>\n",
       "      <td>0</td>\n",
       "      <td>2</td>\n",
       "      <td>1</td>\n",
       "      <td>2</td>\n",
       "      <td>2</td>\n",
       "      <td>0</td>\n",
       "      <td>1</td>\n",
       "      <td>2</td>\n",
       "      <td>1</td>\n",
       "    </tr>\n",
       "    <tr>\n",
       "      <th>6</th>\n",
       "      <td>0</td>\n",
       "      <td>0</td>\n",
       "      <td>1</td>\n",
       "      <td>0</td>\n",
       "      <td>1</td>\n",
       "      <td>1</td>\n",
       "      <td>0</td>\n",
       "      <td>2</td>\n",
       "      <td>1</td>\n",
       "      <td>2</td>\n",
       "      <td>2</td>\n",
       "      <td>0</td>\n",
       "      <td>1</td>\n",
       "      <td>2</td>\n",
       "      <td>1</td>\n",
       "    </tr>\n",
       "    <tr>\n",
       "      <th>7</th>\n",
       "      <td>0</td>\n",
       "      <td>34</td>\n",
       "      <td>1</td>\n",
       "      <td>0</td>\n",
       "      <td>0</td>\n",
       "      <td>0</td>\n",
       "      <td>0</td>\n",
       "      <td>2</td>\n",
       "      <td>1</td>\n",
       "      <td>2</td>\n",
       "      <td>2</td>\n",
       "      <td>0</td>\n",
       "      <td>1</td>\n",
       "      <td>2</td>\n",
       "      <td>0</td>\n",
       "    </tr>\n",
       "  </tbody>\n",
       "</table>\n",
       "</div>"
      ],
      "text/plain": [
       "   Gender  Country  Occupation  self_employed  family_history  treatment  \\\n",
       "3       0       34           1              0               1          1   \n",
       "4       0       34           1              0               1          1   \n",
       "5       0       25           1              0               0          1   \n",
       "6       0        0           1              0               1          1   \n",
       "7       0       34           1              0               0          0   \n",
       "\n",
       "   Days_Indoors  Growing_Stress  Changes_Habits  Mental_Health_History  \\\n",
       "3             0               2               1                      2   \n",
       "4             0               2               1                      2   \n",
       "5             0               2               1                      2   \n",
       "6             0               2               1                      2   \n",
       "7             0               2               1                      2   \n",
       "\n",
       "   Mood_Swings  Coping_Struggles  Work_Interest  Social_Weakness  care_options  \n",
       "3            2                 0              1                2             2  \n",
       "4            2                 0              1                2             2  \n",
       "5            2                 0              1                2             1  \n",
       "6            2                 0              1                2             1  \n",
       "7            2                 0              1                2             0  "
      ]
     },
     "execution_count": 23,
     "metadata": {},
     "output_type": "execute_result"
    }
   ],
   "source": [
    "# Create a LabelEncoder object\n",
    "le = LabelEncoder()\n",
    "\n",
    "# Apply LabelEncoder to each column\n",
    "encoded_df = df.apply(le.fit_transform)\n",
    "\n",
    "encoded_df.head()"
   ]
  },
  {
   "cell_type": "code",
   "execution_count": 24,
   "id": "5451042f",
   "metadata": {},
   "outputs": [
    {
     "data": {
      "text/plain": [
       "3         2\n",
       "4         2\n",
       "5         2\n",
       "6         2\n",
       "7         2\n",
       "         ..\n",
       "292359    1\n",
       "292360    1\n",
       "292361    1\n",
       "292362    1\n",
       "292363    1\n",
       "Name: Mood_Swings, Length: 284858, dtype: int32"
      ]
     },
     "execution_count": 24,
     "metadata": {},
     "output_type": "execute_result"
    }
   ],
   "source": [
    "X = encoded_df.drop(\"Mood_Swings\", axis = 1)\n",
    "\n",
    "y = encoded_df[\"Mood_Swings\"]\n",
    "y"
   ]
  },
  {
   "cell_type": "code",
   "execution_count": 25,
   "id": "8bad53d0",
   "metadata": {},
   "outputs": [],
   "source": [
    "from sklearn.model_selection import train_test_split"
   ]
  },
  {
   "cell_type": "code",
   "execution_count": 26,
   "id": "b0406267",
   "metadata": {},
   "outputs": [
    {
     "name": "stdout",
     "output_type": "stream",
     "text": [
      "(227886, 14) (56972, 14)\n",
      "(227886,) (56972,)\n"
     ]
    }
   ],
   "source": [
    "X_train, X_test, y_train, y_test = train_test_split(X, y, test_size = 0.2, random_state = 42)\n",
    "\n",
    "print(X_train.shape, X_test.shape)\n",
    "print(y_train.shape, y_test.shape)"
   ]
  },
  {
   "cell_type": "code",
   "execution_count": null,
   "id": "e05eeb4d",
   "metadata": {},
   "outputs": [],
   "source": [
    "# Import libraries for model evaluation\n",
    "from sklearn.metrics import (\n",
    "    accuracy_score,\n",
    "    precision_score,\n",
    "    recall_score,\n",
    "    f1_score,\n",
    "    classification_report,\n",
    "    roc_curve,\n",
    "    auc,\n",
    "    RocCurveDisplay,\n",
    ")"
   ]
  },
  {
   "cell_type": "code",
   "execution_count": null,
   "id": "ef0dbf0f",
   "metadata": {},
   "outputs": [],
   "source": [
    "# Import libraries for machine learning\n",
    "from sklearn.model_selection import cross_val_score, KFold\n",
    "from sklearn.pipeline import Pipeline\n",
    "from sklearn.tree import DecisionTreeClassifier\n",
    "from sklearn.ensemble import RandomForestClassifier\n"
   ]
  },
  {
   "cell_type": "code",
   "execution_count": null,
   "id": "a76a0a4f",
   "metadata": {},
   "outputs": [],
   "source": [
    "def pipeline_classification(pipelines):\n",
    "  \"\"\"\n",
    "  Performs classification using cross-validation, evaluates different models,\n",
    "  and makes predictions for each model on the test set.\n",
    "\n",
    "  Args:\n",
    "      pipelines (list): List of tuples containing model names and pipeline objects.\n",
    "\n",
    "  Returns:\n",
    "      pandas.DataFrame: A DataFrame containing model names, mean accuracy, standard deviation,\n",
    "                        and a dictionary with test set predictions for each model.\n",
    "  \"\"\"\n",
    "\n",
    "  # Initialize lists to store results\n",
    "  cv_results = []\n",
    "  model_names = []\n",
    "  model_predictions = {}\n",
    "  model_probabilities = {}\n",
    "\n",
    "  # Perform cross-validation and store results\n",
    "  for name, pipe in pipelines:\n",
    "      # Fit the pipeline to the training data\n",
    "      pipe.fit(X_train, y_train)\n",
    "\n",
    "      kfold = KFold(n_splits = 10, shuffle = True)\n",
    "      cv_results.append(cross_val_score(pipe, X_train, y_train, cv = kfold, scoring = 'accuracy', n_jobs = -1))\n",
    "      model_names.append(name)\n",
    "\n",
    "      # Make predictions on the test set and store them\n",
    "      model_predictions[name] = pipe.predict(X_test)\n",
    "    # Calculate probabilities on the test set and store them\n",
    "      model_probabilities[name] = pipe.predict_proba(X_test)\n",
    "\n",
    "  # Plot the results\n",
    "  plt.boxplot(cv_results)\n",
    "  plt.xticks(range(1, len(model_names) + 1), model_names)\n",
    "  plt.title('Algorithm Comparison')\n",
    "  plt.xlabel('Model')\n",
    "  plt.ylabel('Accuracy')\n",
    "  plt.show()\n",
    "\n",
    "  # Convert results to a DataFrame\n",
    "  results_df = pd.DataFrame({\n",
    "      'Model': model_names,\n",
    "      'Mean Accuracy': [scores.mean() for scores in cv_results],\n",
    "      'Standard Deviation': [scores.std() for scores in cv_results]\n",
    "  })\n",
    "\n",
    "  return results_df, model_predictions, model_probabilities"
   ]
  },
  {
   "cell_type": "code",
   "execution_count": null,
   "id": "430db975",
   "metadata": {},
   "outputs": [],
   "source": [
    "# Define the list of pipelines\n",
    "pipelines = [\n",
    "    ('DT', Pipeline([('scaler', MinMaxScaler()), ('DT', DecisionTreeClassifier())])),\n",
    "    ('RF', Pipeline([('scaler', MinMaxScaler()), ('RF', RandomForestClassifier())])),\n",
    "  ]\n",
    "\n",
    "results_df, model_predictions, model_probabilities = pipeline_classification(pipelines)\n",
    "results_df"
   ]
  },
  {
   "cell_type": "code",
   "execution_count": null,
   "id": "48c3a6f1",
   "metadata": {},
   "outputs": [],
   "source": []
  },
  {
   "cell_type": "code",
   "execution_count": null,
   "id": "4cb8a430",
   "metadata": {},
   "outputs": [],
   "source": [
    "def get_model_scores(models, predictions, y_test, average = \"None\"):\n",
    "  \"\"\"\n",
    "  Calculates and returns precision, recall, and F1 scores for each model.\n",
    "\n",
    "  Args:\n",
    "      models: A list of trained machine learning models.\n",
    "      predictions: A list of predictions for each model, corresponding to the models list.\n",
    "      y_test: True labels for the test set.\n",
    "      average (str, optional): Averaging type for metrics.\n",
    "\n",
    "  Returns:\n",
    "      A Pandas DataFrame containing the model scores.\n",
    "  \"\"\"\n",
    "\n",
    "  scores = [{\n",
    "      'Model': model_name,\n",
    "      'Accuracy': round(accuracy_score(y_test, y_pred), 3),\n",
    "      'Precision': round(precision_score(y_test, y_pred, average = average), 3),\n",
    "      'Recall': round(recall_score(y_test, y_pred, average = average), 3),\n",
    "      'F1 Score': round(f1_score(y_test, y_pred, average = average), 3)\n",
    "  } for model_name, y_pred in zip(models, predictions)]\n",
    "\n",
    "  scores_df = pd.DataFrame(scores)\n",
    "\n",
    "  return scores_df"
   ]
  },
  {
   "cell_type": "code",
   "execution_count": 1,
   "id": "48ef3145",
   "metadata": {},
   "outputs": [
    {
     "ename": "NameError",
     "evalue": "name 'get_model_scores' is not defined",
     "output_type": "error",
     "traceback": [
      "\u001b[1;31m---------------------------------------------------------------------------\u001b[0m",
      "\u001b[1;31mNameError\u001b[0m                                 Traceback (most recent call last)",
      "Cell \u001b[1;32mIn[1], line 1\u001b[0m\n\u001b[1;32m----> 1\u001b[0m scores \u001b[38;5;241m=\u001b[39m \u001b[43mget_model_scores\u001b[49m(models, predictions, y_test, average \u001b[38;5;241m=\u001b[39m \u001b[38;5;124m\"\u001b[39m\u001b[38;5;124mmacro\u001b[39m\u001b[38;5;124m\"\u001b[39m)\n\u001b[0;32m      3\u001b[0m scores\n",
      "\u001b[1;31mNameError\u001b[0m: name 'get_model_scores' is not defined"
     ]
    }
   ],
   "source": [
    "scores = get_model_scores(models, predictions, y_test, average = \"macro\")\n",
    "\n",
    "scores"
   ]
  },
  {
   "cell_type": "code",
   "execution_count": null,
   "id": "cfe16152",
   "metadata": {},
   "outputs": [],
   "source": []
  },
  {
   "cell_type": "code",
   "execution_count": null,
   "id": "b2b1093b",
   "metadata": {},
   "outputs": [],
   "source": []
  }
 ],
 "metadata": {
  "kernelspec": {
   "display_name": "Python 3 (ipykernel)",
   "language": "python",
   "name": "python3"
  },
  "language_info": {
   "codemirror_mode": {
    "name": "ipython",
    "version": 3
   },
   "file_extension": ".py",
   "mimetype": "text/x-python",
   "name": "python",
   "nbconvert_exporter": "python",
   "pygments_lexer": "ipython3",
   "version": "3.10.9"
  }
 },
 "nbformat": 4,
 "nbformat_minor": 5
}
